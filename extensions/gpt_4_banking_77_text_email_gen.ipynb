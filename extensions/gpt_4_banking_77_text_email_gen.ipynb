{
  "nbformat": 4,
  "nbformat_minor": 0,
  "metadata": {
    "colab": {
      "provenance": []
    },
    "kernelspec": {
      "name": "python3",
      "display_name": "Python 3"
    },
    "language_info": {
      "name": "python"
    }
  },
  "cells": [
    {
      "cell_type": "code",
      "execution_count": null,
      "metadata": {
        "id": "fXlFCbkvBk5V"
      },
      "outputs": [],
      "source": [
        "!pip install openai datasets"
      ]
    },
    {
      "cell_type": "code",
      "source": [
        "from datasets import load_dataset"
      ],
      "metadata": {
        "id": "lorN08YHB81q"
      },
      "execution_count": null,
      "outputs": []
    },
    {
      "cell_type": "code",
      "source": [
        "import openai\n",
        "\n",
        "openai.api_key = \"\" # Add your OpenAI API key here!\n",
        "\n",
        "# MODEL = \"gpt-4\" # 8K context\t$0.03 / 1K tokens\t$0.06 / 1K tokens (Expensive!)\n",
        "MODEL = \"gpt-3.5-turbo\" # gpt-3.5-turbo\t$0.002 / 1K tokens\n",
        "\n",
        "dataset = load_dataset(\"banking77\")\n",
        "\n",
        "# Sort the dataset by the length of the customer texts\n",
        "sorted_data = sorted(dataset['train'], key=lambda x: len(x['text']), reverse=True)\n",
        "\n",
        "# Extract the longest 5 customer texts\n",
        "longest_five_texts = [entry[\"text\"] for entry in sorted_data[:5]]\n",
        "\n",
        "# Print the longest 5 customer texts\n",
        "for i, text in enumerate(longest_five_texts):\n",
        "    print(f\"Longest Customer Text {i + 1} (Length: {len(text)}): {text}\")\n",
        "\n",
        "\n",
        "def get_completion(prompt_to_gpt, model=MODEL):\n",
        "    messages = [{\"role\": \"user\", \"content\": prompt_to_gpt}]\n",
        "    response_from_gpt = openai.ChatCompletion.create(\n",
        "        model=model,\n",
        "        messages=messages,\n",
        "        temperature=0,  # this is the degree of randomness of the model's output\n",
        "    )\n",
        "    return response_from_gpt.choices[0].message[\"content\"]\n",
        "\n",
        "for i in range(len(longest_five_texts)):\n",
        "    prompt_1 = f\"\"\"\n",
        "  What is the sentiment of the following comments, \n",
        "  which is delimited with triple backticks?\n",
        "\n",
        "  Give your answer as a single word, either \"positive\" \\\n",
        "  or \"negative\".\n",
        "\n",
        "  Review text: '''{longest_five_texts[i]}'''\n",
        "  \"\"\"\n",
        "    sentiment = get_completion(prompt_1)\n",
        "    print(i, sentiment, \"\\n\")\n",
        "\n",
        "    prompt_2 = f\"\"\"\n",
        "  You are a customer service AI assistant.\n",
        "  Your task is to send an email reply to a valued customer.\n",
        "  Given the customer email delimited by ```, \\\n",
        "  Generate a reply to thank the customer for their review.\n",
        "  If the sentiment is positive or neutral, thank them for \\\n",
        "  their review.\n",
        "  If the sentiment is negative, apologize and suggest that \\\n",
        "  they can reach out to customer service. \n",
        "  Make sure to use specific details from the review.\n",
        "  Write in a concise and professional tone.\n",
        "  Sign the email as `AI customer agent`.\n",
        "  Customer review: ```{longest_five_texts[i]}```\n",
        "  Review sentiment: {sentiment}\n",
        "  \"\"\"\n",
        "    response = get_completion(prompt_2)\n",
        "    print(i, response, \"\\n\")\n"
      ],
      "metadata": {
        "id": "jVfaLpNdCEtS"
      },
      "execution_count": null,
      "outputs": []
    }
  ]
}