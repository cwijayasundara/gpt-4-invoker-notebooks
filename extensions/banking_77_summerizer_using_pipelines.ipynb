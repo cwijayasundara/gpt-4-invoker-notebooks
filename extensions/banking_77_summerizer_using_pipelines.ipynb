{
  "nbformat": 4,
  "nbformat_minor": 0,
  "metadata": {
    "colab": {
      "provenance": []
    },
    "kernelspec": {
      "name": "python3",
      "display_name": "Python 3"
    },
    "language_info": {
      "name": "python"
    }
  },
  "cells": [
    {
      "cell_type": "code",
      "execution_count": null,
      "metadata": {
        "id": "uDQsPqNJZdC4"
      },
      "outputs": [],
      "source": [
        "!pip install datasets evaluate transformers[sentencepiece]"
      ]
    },
    {
      "cell_type": "code",
      "source": [
        "from datasets import load_dataset\n",
        "from transformers import pipeline\n",
        "dataset = load_dataset(\"banking77\")"
      ],
      "metadata": {
        "id": "9u8BJZ-XZl67"
      },
      "execution_count": null,
      "outputs": []
    },
    {
      "cell_type": "code",
      "source": [
        "# Sort the dataset by the length of the customer texts\n",
        "sorted_data = sorted(dataset['train'], key=lambda x: len(x['text']), reverse=True)\n",
        "\n",
        "# Extract the longest 5 customer texts\n",
        "longest_five_texts = [entry[\"text\"] for entry in sorted_data[:5]]"
      ],
      "metadata": {
        "id": "HsKNIr5UZsEa"
      },
      "execution_count": 7,
      "outputs": []
    },
    {
      "cell_type": "code",
      "source": [
        "classifier_sentiment = pipeline(\"sentiment-analysis\")\n",
        "summarizer = pipeline(\"summarization\", model=\"human-centered-summarization/financial-summarization-pegasus\")\n",
        "ner = pipeline(\"ner\", grouped_entities=True)"
      ],
      "metadata": {
        "id": "YRVKi039ZwaT"
      },
      "execution_count": null,
      "outputs": []
    },
    {
      "cell_type": "code",
      "source": [
        "for i in range(len(longest_five_texts)):\n",
        "  word_to_eval = longest_five_texts[i]\n",
        "  print( i, \" text from the banking-77 dataset is\" , word_to_eval, \"\\n\")\n",
        "  sentiment = classifier_sentiment(word_to_eval)\n",
        "  print(\"sentiment of the \", i, \"text is \", sentiment, \"\\n\")\n",
        "  summary = summarizer(word_to_eval)\n",
        "  print(\"summary of the \", i, \"text is \", summary, \"\\n\")\n",
        "  name_entity = ner(word_to_eval)\n",
        "  print(\"NER of the \", i, \"text is \", name_entity, \"\\n\")\n",
        "  print(\"******************\", \"\\n\")"
      ],
      "metadata": {
        "id": "ywAqj_1SaKew"
      },
      "execution_count": null,
      "outputs": []
    }
  ]
}